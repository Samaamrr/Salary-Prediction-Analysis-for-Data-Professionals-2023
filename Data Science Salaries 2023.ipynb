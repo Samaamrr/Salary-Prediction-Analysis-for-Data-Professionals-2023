{
 "cells": [
  {
   "cell_type": "markdown",
   "id": "2ad0b3ea",
   "metadata": {},
   "source": [
    "# Data Science Salaries 2023 - Sama Amr "
   ]
  },
  {
   "cell_type": "markdown",
   "id": "fdb7c6f6",
   "metadata": {},
   "source": [
    "## Project Overview\n",
    "This project aims to analyze and predict salaries of data professionals based on various features such as experience level, employment type, job title, and company size. The goal is to gain insights into salary trends and develop a predictive model that can estimate salaries given certain inputs."
   ]
  },
  {
   "cell_type": "markdown",
   "id": "caa4c9b8",
   "metadata": {},
   "source": [
    "# Import Libraries"
   ]
  },
  {
   "cell_type": "code",
   "execution_count": 39,
   "id": "e05517e9",
   "metadata": {},
   "outputs": [],
   "source": [
    "import pandas as pd\n",
    "import numpy as np\n",
    "import seaborn as sns\n",
    "import matplotlib.pyplot as plt\n",
    "from sklearn.ensemble import RandomForestClassifier\n",
    "from sklearn.linear_model import LogisticRegression\n",
    "from sklearn.metrics import classification_report, confusion_matrix\n",
    "from sklearn.metrics import accuracy_score, f1_score, confusion_matrix, classification_report\n",
    "import pandas as pd\n",
    "import matplotlib.pyplot as plt\n",
    "import seaborn as sns\n",
    "from sklearn.svm import SVC\n",
    "from sklearn.ensemble import RandomForestClassifier, GradientBoostingClassifier, AdaBoostClassifier\n",
    "from sklearn.neighbors import KNeighborsClassifier\n",
    "from sklearn.model_selection import GridSearchCV\n",
    "from sklearn.ensemble import RandomForestRegressor, GradientBoostingRegressor, AdaBoostRegressor\n",
    "from sklearn.neighbors import KNeighborsRegressor\n",
    "from sklearn.svm import SVR\n",
    "from sklearn.metrics import mean_squared_error, r2_score\n",
    "from sklearn.model_selection import train_test_split"
   ]
  },
  {
   "cell_type": "markdown",
   "id": "76899751",
   "metadata": {},
   "source": [
    "## About Dataset\n",
    "Data Science Job Salaries Dataset contains 11 columns, each are:\n",
    "\n",
    "work_year: The year the salary was paid.\n",
    "\n",
    "experience_level: The experience level in the job during the year\n",
    "\n",
    "employment_type: The type of employment for the role\n",
    "\n",
    "job_title: The role worked in during the year.\n",
    "\n",
    "salary: The total gross salary amount paid.\n",
    "\n",
    "salary_currency: The currency of the salary paid as an ISO 4217 currency code.\n",
    "\n",
    "salaryinusd: The salary in USD\n",
    "\n",
    "employee_residence: Employee's primary country of residence in during the work year as an ISO 3166 country code.\n",
    "\n",
    "remote_ratio: The overall amount of work done remotely\n",
    "\n",
    "company_location: The country of the employer's main office or contracting branch\n",
    "\n",
    "company_size: The median number of people that worked for the company during the year"
   ]
  },
  {
   "cell_type": "markdown",
   "id": "5773b6c5",
   "metadata": {},
   "source": [
    "# Explore Data"
   ]
  },
  {
   "cell_type": "code",
   "execution_count": 40,
   "id": "4f0a137b",
   "metadata": {},
   "outputs": [],
   "source": [
    "df=pd.read_csv(\"ds_salaries.csv\")"
   ]
  },
  {
   "cell_type": "code",
   "execution_count": 41,
   "id": "58e71ab2",
   "metadata": {},
   "outputs": [
    {
     "data": {
      "text/html": [
       "<div>\n",
       "<style scoped>\n",
       "    .dataframe tbody tr th:only-of-type {\n",
       "        vertical-align: middle;\n",
       "    }\n",
       "\n",
       "    .dataframe tbody tr th {\n",
       "        vertical-align: top;\n",
       "    }\n",
       "\n",
       "    .dataframe thead th {\n",
       "        text-align: right;\n",
       "    }\n",
       "</style>\n",
       "<table border=\"1\" class=\"dataframe\">\n",
       "  <thead>\n",
       "    <tr style=\"text-align: right;\">\n",
       "      <th></th>\n",
       "      <th>work_year</th>\n",
       "      <th>experience_level</th>\n",
       "      <th>employment_type</th>\n",
       "      <th>job_title</th>\n",
       "      <th>salary</th>\n",
       "      <th>salary_currency</th>\n",
       "      <th>salary_in_usd</th>\n",
       "      <th>employee_residence</th>\n",
       "      <th>remote_ratio</th>\n",
       "      <th>company_location</th>\n",
       "      <th>company_size</th>\n",
       "    </tr>\n",
       "  </thead>\n",
       "  <tbody>\n",
       "    <tr>\n",
       "      <th>0</th>\n",
       "      <td>2023</td>\n",
       "      <td>SE</td>\n",
       "      <td>FT</td>\n",
       "      <td>Principal Data Scientist</td>\n",
       "      <td>80000</td>\n",
       "      <td>EUR</td>\n",
       "      <td>85847</td>\n",
       "      <td>ES</td>\n",
       "      <td>100</td>\n",
       "      <td>ES</td>\n",
       "      <td>L</td>\n",
       "    </tr>\n",
       "    <tr>\n",
       "      <th>1</th>\n",
       "      <td>2023</td>\n",
       "      <td>MI</td>\n",
       "      <td>CT</td>\n",
       "      <td>ML Engineer</td>\n",
       "      <td>30000</td>\n",
       "      <td>USD</td>\n",
       "      <td>30000</td>\n",
       "      <td>US</td>\n",
       "      <td>100</td>\n",
       "      <td>US</td>\n",
       "      <td>S</td>\n",
       "    </tr>\n",
       "    <tr>\n",
       "      <th>2</th>\n",
       "      <td>2023</td>\n",
       "      <td>MI</td>\n",
       "      <td>CT</td>\n",
       "      <td>ML Engineer</td>\n",
       "      <td>25500</td>\n",
       "      <td>USD</td>\n",
       "      <td>25500</td>\n",
       "      <td>US</td>\n",
       "      <td>100</td>\n",
       "      <td>US</td>\n",
       "      <td>S</td>\n",
       "    </tr>\n",
       "    <tr>\n",
       "      <th>3</th>\n",
       "      <td>2023</td>\n",
       "      <td>SE</td>\n",
       "      <td>FT</td>\n",
       "      <td>Data Scientist</td>\n",
       "      <td>175000</td>\n",
       "      <td>USD</td>\n",
       "      <td>175000</td>\n",
       "      <td>CA</td>\n",
       "      <td>100</td>\n",
       "      <td>CA</td>\n",
       "      <td>M</td>\n",
       "    </tr>\n",
       "    <tr>\n",
       "      <th>4</th>\n",
       "      <td>2023</td>\n",
       "      <td>SE</td>\n",
       "      <td>FT</td>\n",
       "      <td>Data Scientist</td>\n",
       "      <td>120000</td>\n",
       "      <td>USD</td>\n",
       "      <td>120000</td>\n",
       "      <td>CA</td>\n",
       "      <td>100</td>\n",
       "      <td>CA</td>\n",
       "      <td>M</td>\n",
       "    </tr>\n",
       "  </tbody>\n",
       "</table>\n",
       "</div>"
      ],
      "text/plain": [
       "   work_year experience_level employment_type                 job_title  \\\n",
       "0       2023               SE              FT  Principal Data Scientist   \n",
       "1       2023               MI              CT               ML Engineer   \n",
       "2       2023               MI              CT               ML Engineer   \n",
       "3       2023               SE              FT            Data Scientist   \n",
       "4       2023               SE              FT            Data Scientist   \n",
       "\n",
       "   salary salary_currency  salary_in_usd employee_residence  remote_ratio  \\\n",
       "0   80000             EUR          85847                 ES           100   \n",
       "1   30000             USD          30000                 US           100   \n",
       "2   25500             USD          25500                 US           100   \n",
       "3  175000             USD         175000                 CA           100   \n",
       "4  120000             USD         120000                 CA           100   \n",
       "\n",
       "  company_location company_size  \n",
       "0               ES            L  \n",
       "1               US            S  \n",
       "2               US            S  \n",
       "3               CA            M  \n",
       "4               CA            M  "
      ]
     },
     "execution_count": 41,
     "metadata": {},
     "output_type": "execute_result"
    }
   ],
   "source": [
    "df.head()"
   ]
  },
  {
   "cell_type": "code",
   "execution_count": 42,
   "id": "383ebd78",
   "metadata": {},
   "outputs": [
    {
     "data": {
      "text/html": [
       "<div>\n",
       "<style scoped>\n",
       "    .dataframe tbody tr th:only-of-type {\n",
       "        vertical-align: middle;\n",
       "    }\n",
       "\n",
       "    .dataframe tbody tr th {\n",
       "        vertical-align: top;\n",
       "    }\n",
       "\n",
       "    .dataframe thead th {\n",
       "        text-align: right;\n",
       "    }\n",
       "</style>\n",
       "<table border=\"1\" class=\"dataframe\">\n",
       "  <thead>\n",
       "    <tr style=\"text-align: right;\">\n",
       "      <th></th>\n",
       "      <th>work_year</th>\n",
       "      <th>experience_level</th>\n",
       "      <th>employment_type</th>\n",
       "      <th>job_title</th>\n",
       "      <th>salary</th>\n",
       "      <th>salary_currency</th>\n",
       "      <th>salary_in_usd</th>\n",
       "      <th>employee_residence</th>\n",
       "      <th>remote_ratio</th>\n",
       "      <th>company_location</th>\n",
       "      <th>company_size</th>\n",
       "    </tr>\n",
       "  </thead>\n",
       "  <tbody>\n",
       "    <tr>\n",
       "      <th>3750</th>\n",
       "      <td>2020</td>\n",
       "      <td>SE</td>\n",
       "      <td>FT</td>\n",
       "      <td>Data Scientist</td>\n",
       "      <td>412000</td>\n",
       "      <td>USD</td>\n",
       "      <td>412000</td>\n",
       "      <td>US</td>\n",
       "      <td>100</td>\n",
       "      <td>US</td>\n",
       "      <td>L</td>\n",
       "    </tr>\n",
       "    <tr>\n",
       "      <th>3751</th>\n",
       "      <td>2021</td>\n",
       "      <td>MI</td>\n",
       "      <td>FT</td>\n",
       "      <td>Principal Data Scientist</td>\n",
       "      <td>151000</td>\n",
       "      <td>USD</td>\n",
       "      <td>151000</td>\n",
       "      <td>US</td>\n",
       "      <td>100</td>\n",
       "      <td>US</td>\n",
       "      <td>L</td>\n",
       "    </tr>\n",
       "    <tr>\n",
       "      <th>3752</th>\n",
       "      <td>2020</td>\n",
       "      <td>EN</td>\n",
       "      <td>FT</td>\n",
       "      <td>Data Scientist</td>\n",
       "      <td>105000</td>\n",
       "      <td>USD</td>\n",
       "      <td>105000</td>\n",
       "      <td>US</td>\n",
       "      <td>100</td>\n",
       "      <td>US</td>\n",
       "      <td>S</td>\n",
       "    </tr>\n",
       "    <tr>\n",
       "      <th>3753</th>\n",
       "      <td>2020</td>\n",
       "      <td>EN</td>\n",
       "      <td>CT</td>\n",
       "      <td>Business Data Analyst</td>\n",
       "      <td>100000</td>\n",
       "      <td>USD</td>\n",
       "      <td>100000</td>\n",
       "      <td>US</td>\n",
       "      <td>100</td>\n",
       "      <td>US</td>\n",
       "      <td>L</td>\n",
       "    </tr>\n",
       "    <tr>\n",
       "      <th>3754</th>\n",
       "      <td>2021</td>\n",
       "      <td>SE</td>\n",
       "      <td>FT</td>\n",
       "      <td>Data Science Manager</td>\n",
       "      <td>7000000</td>\n",
       "      <td>INR</td>\n",
       "      <td>94665</td>\n",
       "      <td>IN</td>\n",
       "      <td>50</td>\n",
       "      <td>IN</td>\n",
       "      <td>L</td>\n",
       "    </tr>\n",
       "  </tbody>\n",
       "</table>\n",
       "</div>"
      ],
      "text/plain": [
       "      work_year experience_level employment_type                 job_title  \\\n",
       "3750       2020               SE              FT            Data Scientist   \n",
       "3751       2021               MI              FT  Principal Data Scientist   \n",
       "3752       2020               EN              FT            Data Scientist   \n",
       "3753       2020               EN              CT     Business Data Analyst   \n",
       "3754       2021               SE              FT      Data Science Manager   \n",
       "\n",
       "       salary salary_currency  salary_in_usd employee_residence  remote_ratio  \\\n",
       "3750   412000             USD         412000                 US           100   \n",
       "3751   151000             USD         151000                 US           100   \n",
       "3752   105000             USD         105000                 US           100   \n",
       "3753   100000             USD         100000                 US           100   \n",
       "3754  7000000             INR          94665                 IN            50   \n",
       "\n",
       "     company_location company_size  \n",
       "3750               US            L  \n",
       "3751               US            L  \n",
       "3752               US            S  \n",
       "3753               US            L  \n",
       "3754               IN            L  "
      ]
     },
     "execution_count": 42,
     "metadata": {},
     "output_type": "execute_result"
    }
   ],
   "source": [
    "df.tail()"
   ]
  },
  {
   "cell_type": "code",
   "execution_count": 43,
   "id": "417f9fed",
   "metadata": {},
   "outputs": [
    {
     "name": "stdout",
     "output_type": "stream",
     "text": [
      "<class 'pandas.core.frame.DataFrame'>\n",
      "RangeIndex: 3755 entries, 0 to 3754\n",
      "Data columns (total 11 columns):\n",
      " #   Column              Non-Null Count  Dtype \n",
      "---  ------              --------------  ----- \n",
      " 0   work_year           3755 non-null   int64 \n",
      " 1   experience_level    3755 non-null   object\n",
      " 2   employment_type     3755 non-null   object\n",
      " 3   job_title           3755 non-null   object\n",
      " 4   salary              3755 non-null   int64 \n",
      " 5   salary_currency     3755 non-null   object\n",
      " 6   salary_in_usd       3755 non-null   int64 \n",
      " 7   employee_residence  3755 non-null   object\n",
      " 8   remote_ratio        3755 non-null   int64 \n",
      " 9   company_location    3755 non-null   object\n",
      " 10  company_size        3755 non-null   object\n",
      "dtypes: int64(4), object(7)\n",
      "memory usage: 322.8+ KB\n"
     ]
    }
   ],
   "source": [
    "df.info()"
   ]
  },
  {
   "cell_type": "code",
   "execution_count": 44,
   "id": "71ad9105",
   "metadata": {},
   "outputs": [
    {
     "data": {
      "text/html": [
       "<div>\n",
       "<style scoped>\n",
       "    .dataframe tbody tr th:only-of-type {\n",
       "        vertical-align: middle;\n",
       "    }\n",
       "\n",
       "    .dataframe tbody tr th {\n",
       "        vertical-align: top;\n",
       "    }\n",
       "\n",
       "    .dataframe thead th {\n",
       "        text-align: right;\n",
       "    }\n",
       "</style>\n",
       "<table border=\"1\" class=\"dataframe\">\n",
       "  <thead>\n",
       "    <tr style=\"text-align: right;\">\n",
       "      <th></th>\n",
       "      <th>work_year</th>\n",
       "      <th>salary</th>\n",
       "      <th>salary_in_usd</th>\n",
       "      <th>remote_ratio</th>\n",
       "    </tr>\n",
       "  </thead>\n",
       "  <tbody>\n",
       "    <tr>\n",
       "      <th>count</th>\n",
       "      <td>3755.000000</td>\n",
       "      <td>3.755000e+03</td>\n",
       "      <td>3755.000000</td>\n",
       "      <td>3755.000000</td>\n",
       "    </tr>\n",
       "    <tr>\n",
       "      <th>mean</th>\n",
       "      <td>2022.373635</td>\n",
       "      <td>1.906956e+05</td>\n",
       "      <td>137570.389880</td>\n",
       "      <td>46.271638</td>\n",
       "    </tr>\n",
       "    <tr>\n",
       "      <th>std</th>\n",
       "      <td>0.691448</td>\n",
       "      <td>6.716765e+05</td>\n",
       "      <td>63055.625278</td>\n",
       "      <td>48.589050</td>\n",
       "    </tr>\n",
       "    <tr>\n",
       "      <th>min</th>\n",
       "      <td>2020.000000</td>\n",
       "      <td>6.000000e+03</td>\n",
       "      <td>5132.000000</td>\n",
       "      <td>0.000000</td>\n",
       "    </tr>\n",
       "    <tr>\n",
       "      <th>25%</th>\n",
       "      <td>2022.000000</td>\n",
       "      <td>1.000000e+05</td>\n",
       "      <td>95000.000000</td>\n",
       "      <td>0.000000</td>\n",
       "    </tr>\n",
       "    <tr>\n",
       "      <th>50%</th>\n",
       "      <td>2022.000000</td>\n",
       "      <td>1.380000e+05</td>\n",
       "      <td>135000.000000</td>\n",
       "      <td>0.000000</td>\n",
       "    </tr>\n",
       "    <tr>\n",
       "      <th>75%</th>\n",
       "      <td>2023.000000</td>\n",
       "      <td>1.800000e+05</td>\n",
       "      <td>175000.000000</td>\n",
       "      <td>100.000000</td>\n",
       "    </tr>\n",
       "    <tr>\n",
       "      <th>max</th>\n",
       "      <td>2023.000000</td>\n",
       "      <td>3.040000e+07</td>\n",
       "      <td>450000.000000</td>\n",
       "      <td>100.000000</td>\n",
       "    </tr>\n",
       "  </tbody>\n",
       "</table>\n",
       "</div>"
      ],
      "text/plain": [
       "         work_year        salary  salary_in_usd  remote_ratio\n",
       "count  3755.000000  3.755000e+03    3755.000000   3755.000000\n",
       "mean   2022.373635  1.906956e+05  137570.389880     46.271638\n",
       "std       0.691448  6.716765e+05   63055.625278     48.589050\n",
       "min    2020.000000  6.000000e+03    5132.000000      0.000000\n",
       "25%    2022.000000  1.000000e+05   95000.000000      0.000000\n",
       "50%    2022.000000  1.380000e+05  135000.000000      0.000000\n",
       "75%    2023.000000  1.800000e+05  175000.000000    100.000000\n",
       "max    2023.000000  3.040000e+07  450000.000000    100.000000"
      ]
     },
     "execution_count": 44,
     "metadata": {},
     "output_type": "execute_result"
    }
   ],
   "source": [
    "df.describe()"
   ]
  },
  {
   "cell_type": "code",
   "execution_count": 45,
   "id": "c3c4c4b2",
   "metadata": {},
   "outputs": [
    {
     "data": {
      "text/plain": [
       "work_year             0\n",
       "experience_level      0\n",
       "employment_type       0\n",
       "job_title             0\n",
       "salary                0\n",
       "salary_currency       0\n",
       "salary_in_usd         0\n",
       "employee_residence    0\n",
       "remote_ratio          0\n",
       "company_location      0\n",
       "company_size          0\n",
       "dtype: int64"
      ]
     },
     "execution_count": 45,
     "metadata": {},
     "output_type": "execute_result"
    }
   ],
   "source": [
    "df.isnull().sum()"
   ]
  },
  {
   "cell_type": "code",
   "execution_count": 46,
   "id": "21c78bec",
   "metadata": {},
   "outputs": [
    {
     "data": {
      "text/plain": [
       "1171"
      ]
     },
     "execution_count": 46,
     "metadata": {},
     "output_type": "execute_result"
    }
   ],
   "source": [
    "df.duplicated().sum()"
   ]
  },
  {
   "cell_type": "code",
   "execution_count": null,
   "id": "a5702ff7",
   "metadata": {},
   "outputs": [],
   "source": []
  },
  {
   "cell_type": "markdown",
   "id": "cb8a1ec6",
   "metadata": {},
   "source": [
    "# EDA"
   ]
  },
  {
   "cell_type": "markdown",
   "id": "6315a8c5",
   "metadata": {},
   "source": [
    "Distribution of Salaries in USD"
   ]
  },
  {
   "cell_type": "code",
   "execution_count": 13,
   "id": "b8ec9450",
   "metadata": {},
   "outputs": [
    {
     "data": {
      "image/png": "[encoded data removed]",
      "text/plain": [
       "<Figure size 1000x600 with 1 Axes>"
      ]
     },
     "metadata": {},
     "output_type": "display_data"
    }
   ],
   "source": [
    "plt.figure(figsize=(10, 6))\n",
    "sns.histplot(df['salary_in_usd'], bins=30, kde=True)\n",
    "plt.title('Distribution of Salaries in USD')\n",
    "plt.xlabel('Salary in USD')\n",
    "plt.ylabel('Frequency')\n",
    "plt.show()\n"
   ]
  },
  {
   "cell_type": "markdown",
   "id": "6f9bef73",
   "metadata": {},
   "source": [
    "Experience Level vs. Salary in USD"
   ]
  },
  {
   "cell_type": "code",
   "execution_count": 14,
   "id": "ef923c6d",
   "metadata": {},
   "outputs": [
    {
     "data": {
      "image/png": "[encoded data removed]",
      "text/plain": [
       "<Figure size 1000x600 with 1 Axes>"
      ]
     },
     "metadata": {},
     "output_type": "display_data"
    }
   ],
   "source": [
    "plt.figure(figsize=(10, 6))\n",
    "sns.boxplot(x='experience_level', y='salary_in_usd', data=df)\n",
    "plt.title('Experience Level vs. Salary in USD')\n",
    "plt.xlabel('Experience Level')\n",
    "plt.ylabel('Salary in USD')\n",
    "plt.show()\n"
   ]
  },
  {
   "cell_type": "markdown",
   "id": "0729e44d",
   "metadata": {},
   "source": [
    "Employment Type Distribution"
   ]
  },
  {
   "cell_type": "code",
   "execution_count": 15,
   "id": "43b4899d",
   "metadata": {},
   "outputs": [
    {
     "data": {
      "image/png": "[encoded data removed]",
      "text/plain": [
       "<Figure size 1000x600 with 1 Axes>"
      ]
     },
     "metadata": {},
     "output_type": "display_data"
    }
   ],
   "source": [
    "plt.figure(figsize=(10, 6))\n",
    "sns.countplot(x='employment_type', data=df)\n",
    "plt.title('Distribution of Employment Type')\n",
    "plt.xlabel('Employment Type')\n",
    "plt.ylabel('Count')\n",
    "plt.show()\n"
   ]
  },
  {
   "cell_type": "markdown",
   "id": "5a8d4892",
   "metadata": {},
   "source": [
    "Correlation Analysis\n",
    "\n",
    "Let's see how numerical variables correlate with each other:"
   ]
  },
  {
   "cell_type": "code",
   "execution_count": 17,
   "id": "e7a49715",
   "metadata": {},
   "outputs": [
    {
     "data": {
      "image/png": "[encoded data removed]",
      "text/plain": [
       "<Figure size 1000x600 with 2 Axes>"
      ]
     },
     "metadata": {},
     "output_type": "display_data"
    }
   ],
   "source": [
    "# Select only numerical columns for correlation analysis\n",
    "numerical_df = df.select_dtypes(include=[np.number])\n",
    "\n",
    "# Plot the correlation matrix\n",
    "plt.figure(figsize=(10, 6))\n",
    "sns.heatmap(numerical_df.corr(), annot=True, cmap='coolwarm', linewidths=0.5)\n",
    "plt.title('Correlation Matrix')\n",
    "plt.show()\n"
   ]
  },
  {
   "cell_type": "markdown",
   "id": "ee0d608c",
   "metadata": {},
   "source": [
    "# Data Preprocessing"
   ]
  },
  {
   "cell_type": "markdown",
   "id": "a3cf4a9c",
   "metadata": {},
   "source": [
    "Handle Duplicates"
   ]
  },
  {
   "cell_type": "code",
   "execution_count": 47,
   "id": "67c2ed8c",
   "metadata": {},
   "outputs": [
    {
     "data": {
      "text/plain": [
       "0"
      ]
     },
     "execution_count": 47,
     "metadata": {},
     "output_type": "execute_result"
    }
   ],
   "source": [
    "# Remove duplicate rows\n",
    "df = df.drop_duplicates()\n",
    "\n",
    "# Verify that duplicates have been removed\n",
    "df.duplicated().sum()"
   ]
  },
  {
   "cell_type": "markdown",
   "id": "bd715ff0",
   "metadata": {},
   "source": [
    "Encoding Categorical Variables"
   ]
  },
  {
   "cell_type": "markdown",
   "id": "c02806cc",
   "metadata": {},
   "source": [
    "We need to convert these into numerical values using encoding techniques like Label Encoding or One-Hot Encoding:"
   ]
  },
  {
   "cell_type": "code",
   "execution_count": 48,
   "id": "7763a13f",
   "metadata": {},
   "outputs": [],
   "source": [
    "# One-Hot Encoding for categorical variables\n",
    "df_encoded = pd.get_dummies(df, columns=['experience_level', 'employment_type', 'job_title', 'salary_currency', 'employee_residence', 'company_location', 'company_size'], drop_first=True)\n"
   ]
  },
  {
   "cell_type": "markdown",
   "id": "b4e64aee",
   "metadata": {},
   "source": [
    "Feature Scaling\n",
    "\n",
    "To ensure that all numerical features contribute equally to the model, we should scale them. Common techniques include Standardization or Min-Max Scaling:"
   ]
  },
  {
   "cell_type": "code",
   "execution_count": 49,
   "id": "647354ff",
   "metadata": {},
   "outputs": [],
   "source": [
    "from sklearn.preprocessing import StandardScaler\n",
    "\n",
    "# Initialize the scaler\n",
    "scaler = StandardScaler()\n",
    "\n",
    "# Apply scaling to the numerical columns\n",
    "df_encoded[['salary', 'salary_in_usd', 'remote_ratio']] = scaler.fit_transform(df_encoded[['salary', 'salary_in_usd', 'remote_ratio']])\n"
   ]
  },
  {
   "cell_type": "markdown",
   "id": "d4c4671e",
   "metadata": {},
   "source": [
    "Splitting the Data into Train and Test Sets"
   ]
  },
  {
   "cell_type": "code",
   "execution_count": 50,
   "id": "12d90119",
   "metadata": {},
   "outputs": [],
   "source": [
    "from sklearn.model_selection import train_test_split\n",
    "\n",
    "# Define the features (X) and the target (y)\n",
    "X = df_encoded.drop('salary_in_usd', axis=1)  \n",
    "y = df_encoded['salary_in_usd']\n",
    "\n",
    "# Split the data\n",
    "X_train, X_test, y_train, y_test = train_test_split(X, y, test_size=0.2, random_state=42)\n"
   ]
  },
  {
   "cell_type": "markdown",
   "id": "7bdbfa23",
   "metadata": {},
   "source": [
    "Feature Selection\n"
   ]
  },
  {
   "cell_type": "markdown",
   "id": "c3750779",
   "metadata": {},
   "source": [
    "the target variable i want to predict (in this case, salary_in_usd). The goal is to keep only the features that provide the most useful information to the model, which can improve model performance and reduce computation time."
   ]
  },
  {
   "cell_type": "code",
   "execution_count": 51,
   "id": "e3bc1c37",
   "metadata": {},
   "outputs": [],
   "source": [
    "from sklearn.ensemble import RandomForestRegressor\n",
    "\n",
    "# Initialize a model for feature importance\n",
    "model = RandomForestRegressor()\n",
    "model.fit(X_train, y_train)\n",
    "\n",
    "# Get feature importances\n",
    "importances = model.feature_importances_\n",
    "\n",
    "# Create a DataFrame to view the importance\n",
    "feature_importances = pd.DataFrame({'feature': X.columns, 'importance': importances}).sort_values(by='importance', ascending=False)\n"
   ]
  },
  {
   "cell_type": "code",
   "execution_count": 52,
   "id": "a264e078",
   "metadata": {},
   "outputs": [
    {
     "name": "stdout",
     "output_type": "stream",
     "text": [
      "                       feature  importance\n",
      "1                       salary    0.847403\n",
      "119        salary_currency_USD    0.082200\n",
      "112        salary_currency_INR    0.037704\n",
      "111        salary_currency_ILS    0.003843\n",
      "157      employee_residence_IL    0.002897\n",
      "..                         ...         ...\n",
      "218        company_location_DZ    0.000000\n",
      "58   job_title_Data Strategist    0.000000\n",
      "228        company_location_HN    0.000000\n",
      "235        company_location_IQ    0.000000\n",
      "142      employee_residence_DZ    0.000000\n",
      "\n",
      "[270 rows x 2 columns]\n"
     ]
    }
   ],
   "source": [
    "# Display the feature importances\n",
    "print(feature_importances)\n"
   ]
  },
  {
   "cell_type": "markdown",
   "id": "5b264ca8",
   "metadata": {},
   "source": [
    "# Model Training and Evaluation"
   ]
  },
  {
   "cell_type": "markdown",
   "id": "dce4f5ca",
   "metadata": {},
   "source": [
    "Random Forest model:"
   ]
  },
  {
   "cell_type": "code",
   "execution_count": 53,
   "id": "6e85601b",
   "metadata": {},
   "outputs": [
    {
     "name": "stdout",
     "output_type": "stream",
     "text": [
      "Mean Squared Error: 0.05125713526607897\n",
      "R^2 Score: 0.9472014411343439\n"
     ]
    }
   ],
   "source": [
    "from sklearn.ensemble import RandomForestRegressor\n",
    "from sklearn.metrics import mean_squared_error, r2_score\n",
    "\n",
    "# Initialize and train the model\n",
    "rf_model = RandomForestRegressor(n_estimators=100, random_state=42)\n",
    "rf_model.fit(X_train, y_train)\n",
    "\n",
    "# Make predictions\n",
    "y_pred = rf_model.predict(X_test)\n",
    "\n",
    "# Evaluate the model\n",
    "mse = mean_squared_error(y_test, y_pred)\n",
    "r2 = r2_score(y_test, y_pred)\n",
    "\n",
    "print(f\"Mean Squared Error: {mse}\")\n",
    "print(f\"R^2 Score: {r2}\")\n"
   ]
  },
  {
   "cell_type": "markdown",
   "id": "b7d5877f",
   "metadata": {},
   "source": [
    " Hyperparameter Tuning\n",
    " \n",
    "To improve model performance, use Grid Search to find the best hyperparameters for your models."
   ]
  },
  {
   "cell_type": "code",
   "execution_count": 55,
   "id": "9d44cdb8",
   "metadata": {},
   "outputs": [
    {
     "name": "stdout",
     "output_type": "stream",
     "text": [
      "Fitting 5 folds for each of 324 candidates, totalling 1620 fits\n"
     ]
    },
    {
     "name": "stderr",
     "output_type": "stream",
     "text": [
      "D:\\SAMAANACONDA\\Lib\\site-packages\\sklearn\\model_selection\\_validation.py:540: FitFailedWarning: \n",
      "540 fits failed out of a total of 1620.\n",
      "The score on these train-test partitions for these parameters will be set to nan.\n",
      "If these failures are not expected, you can try to debug them by setting error_score='raise'.\n",
      "\n",
      "Below are more details about the failures:\n",
      "--------------------------------------------------------------------------------\n",
      "241 fits failed with the following error:\n",
      "Traceback (most recent call last):\n",
      "  File \"D:\\SAMAANACONDA\\Lib\\site-packages\\sklearn\\model_selection\\_validation.py\", line 888, in _fit_and_score\n",
      "    estimator.fit(X_train, y_train, **fit_params)\n",
      "  File \"D:\\SAMAANACONDA\\Lib\\site-packages\\sklearn\\base.py\", line 1466, in wrapper\n",
      "    estimator._validate_params()\n",
      "  File \"D:\\SAMAANACONDA\\Lib\\site-packages\\sklearn\\base.py\", line 666, in _validate_params\n",
      "    validate_parameter_constraints(\n",
      "  File \"D:\\SAMAANACONDA\\Lib\\site-packages\\sklearn\\utils\\_param_validation.py\", line 95, in validate_parameter_constraints\n",
      "    raise InvalidParameterError(\n",
      "sklearn.utils._param_validation.InvalidParameterError: The 'max_features' parameter of RandomForestRegressor must be an int in the range [1, inf), a float in the range (0.0, 1.0], a str among {'sqrt', 'log2'} or None. Got 'auto' instead.\n",
      "\n",
      "--------------------------------------------------------------------------------\n",
      "299 fits failed with the following error:\n",
      "Traceback (most recent call last):\n",
      "  File \"D:\\SAMAANACONDA\\Lib\\site-packages\\sklearn\\model_selection\\_validation.py\", line 888, in _fit_and_score\n",
      "    estimator.fit(X_train, y_train, **fit_params)\n",
      "  File \"D:\\SAMAANACONDA\\Lib\\site-packages\\sklearn\\base.py\", line 1466, in wrapper\n",
      "    estimator._validate_params()\n",
      "  File \"D:\\SAMAANACONDA\\Lib\\site-packages\\sklearn\\base.py\", line 666, in _validate_params\n",
      "    validate_parameter_constraints(\n",
      "  File \"D:\\SAMAANACONDA\\Lib\\site-packages\\sklearn\\utils\\_param_validation.py\", line 95, in validate_parameter_constraints\n",
      "    raise InvalidParameterError(\n",
      "sklearn.utils._param_validation.InvalidParameterError: The 'max_features' parameter of RandomForestRegressor must be an int in the range [1, inf), a float in the range (0.0, 1.0], a str among {'log2', 'sqrt'} or None. Got 'auto' instead.\n",
      "\n",
      "  warnings.warn(some_fits_failed_message, FitFailedWarning)\n",
      "D:\\SAMAANACONDA\\Lib\\site-packages\\numpy\\ma\\core.py:2820: RuntimeWarning: invalid value encountered in cast\n",
      "  _data = np.array(data, dtype=dtype, copy=copy,\n",
      "D:\\SAMAANACONDA\\Lib\\site-packages\\sklearn\\model_selection\\_search.py:1102: UserWarning: One or more of the test scores are non-finite: [       nan        nan        nan        nan        nan        nan\n",
      "        nan        nan        nan        nan        nan        nan\n",
      "        nan        nan        nan        nan        nan        nan\n",
      "        nan        nan        nan        nan        nan        nan\n",
      "        nan        nan        nan 0.89426911 0.89842052 0.89998099\n",
      " 0.88004927 0.88064722 0.88155352 0.85538967 0.85930831 0.86062185\n",
      " 0.68833835 0.70525239 0.70102102 0.70093698 0.70681883 0.7003872\n",
      " 0.70085453 0.69155711 0.69396941 0.54467443 0.56807014 0.57638162\n",
      " 0.54467443 0.56807014 0.57638162 0.53308509 0.56402539 0.57661602\n",
      " 0.87314612 0.87524797 0.87625225 0.85014425 0.85078375 0.85215181\n",
      " 0.82203911 0.82226749 0.8252781  0.51523709 0.50792001 0.5178017\n",
      " 0.51590612 0.50688649 0.51971978 0.50399648 0.49084184 0.50511165\n",
      " 0.3627799  0.36721461 0.3649438  0.3627799  0.36721461 0.3649438\n",
      " 0.35555861 0.36051318 0.36052258        nan        nan        nan\n",
      "        nan        nan        nan        nan        nan        nan\n",
      "        nan        nan        nan        nan        nan        nan\n",
      "        nan        nan        nan        nan        nan        nan\n",
      "        nan        nan        nan        nan        nan        nan\n",
      " 0.64821866 0.66184177 0.66480709 0.65762515 0.65448824 0.6662376\n",
      " 0.65836577 0.657376   0.66330102 0.60821327 0.63135174 0.62632904\n",
      " 0.60352911 0.6350337  0.63147361 0.59608578 0.61448497 0.61302353\n",
      " 0.54255244 0.55628662 0.5658721  0.54255244 0.55628662 0.5658721\n",
      " 0.53765031 0.56610535 0.56911867 0.51063229 0.51303867 0.51885495\n",
      " 0.51651104 0.50540431 0.51896821 0.51019735 0.50629332 0.50968631\n",
      " 0.45272623 0.4533583  0.45863301 0.45971308 0.44629992 0.45468442\n",
      " 0.45400087 0.44327426 0.45158613 0.35278141 0.35939126 0.35763919\n",
      " 0.35278141 0.35939126 0.35763919 0.34655821 0.35183611 0.35306028\n",
      "        nan        nan        nan        nan        nan        nan\n",
      "        nan        nan        nan        nan        nan        nan\n",
      "        nan        nan        nan        nan        nan        nan\n",
      "        nan        nan        nan        nan        nan        nan\n",
      "        nan        nan        nan 0.8415004  0.83842927 0.84588451\n",
      " 0.8211605  0.82804198 0.82870302 0.81472023 0.81450321 0.81326141\n",
      " 0.68586722 0.70050718 0.69583062 0.69777725 0.70235566 0.69673713\n",
      " 0.69489343 0.68875614 0.6908823  0.5441672  0.56767798 0.57620454\n",
      " 0.5441672  0.56767798 0.57620454 0.53306351 0.56370114 0.57643572\n",
      " 0.74291887 0.74021469 0.73966689 0.72969895 0.72262741 0.718853\n",
      " 0.69864232 0.7027082  0.70394583 0.50638741 0.4987456  0.51129498\n",
      " 0.50705338 0.49897072 0.51352676 0.50967411 0.49228262 0.50500187\n",
      " 0.3627799  0.36721461 0.36496451 0.3627799  0.36721461 0.36496451\n",
      " 0.35555861 0.36051318 0.36052258        nan        nan        nan\n",
      "        nan        nan        nan        nan        nan        nan\n",
      "        nan        nan        nan        nan        nan        nan\n",
      "        nan        nan        nan        nan        nan        nan\n",
      "        nan        nan        nan        nan        nan        nan\n",
      " 0.88463389 0.88892744 0.89002577 0.86917459 0.86821447 0.87180225\n",
      " 0.85085781 0.85461285 0.85432081 0.68937414 0.70582261 0.70114067\n",
      " 0.70079431 0.70613923 0.70010016 0.70062486 0.69140767 0.69388155\n",
      " 0.54467443 0.56807014 0.57638162 0.54467443 0.56807014 0.57638162\n",
      " 0.53308509 0.56402539 0.57661602 0.83860576 0.83874187 0.84114084\n",
      " 0.81281161 0.8110096  0.81346233 0.78398854 0.78238109 0.7878873\n",
      " 0.51473153 0.50766937 0.51770548 0.51536349 0.50660946 0.51939892\n",
      " 0.50399648 0.49084184 0.50510079 0.3627799  0.36721461 0.3649438\n",
      " 0.3627799  0.36721461 0.3649438  0.35555861 0.36051318 0.36052258]\n",
      "  warnings.warn(\n"
     ]
    },
    {
     "name": "stdout",
     "output_type": "stream",
     "text": [
      "Best Parameters: {'max_depth': None, 'max_features': 'sqrt', 'min_samples_leaf': 1, 'min_samples_split': 2, 'n_estimators': 200}\n"
     ]
    }
   ],
   "source": [
    "from sklearn.model_selection import GridSearchCV\n",
    "\n",
    "# Define the parameter grid with valid options\n",
    "param_grid = {\n",
    "    'n_estimators': [50, 100, 200],\n",
    "    'max_features': ['auto', 'sqrt', 'log2'],\n",
    "    'max_depth': [None, 10, 20, 30],\n",
    "    'min_samples_split': [2, 5, 10],\n",
    "    'min_samples_leaf': [1, 2, 4]\n",
    "}\n",
    "\n",
    "# Initialize GridSearchCV\n",
    "grid_search = GridSearchCV(estimator=RandomForestRegressor(random_state=42), param_grid=param_grid, cv=5, n_jobs=-1, verbose=2)\n",
    "\n",
    "# Fit GridSearchCV\n",
    "grid_search.fit(X_train, y_train)\n",
    "\n",
    "# Print the best parameters\n",
    "print(\"Best Parameters:\", grid_search.best_params_)\n"
   ]
  },
  {
   "cell_type": "markdown",
   "id": "d0f86777",
   "metadata": {},
   "source": [
    "Logistic Regression"
   ]
  },
  {
   "cell_type": "code",
   "execution_count": 56,
   "id": "da27df57",
   "metadata": {},
   "outputs": [
    {
     "name": "stdout",
     "output_type": "stream",
     "text": [
      "Linear Regression - Mean Squared Error: 1.1765436733535025e+22\n",
      "Linear Regression - R^2 Score: -1.2119251314593057e+22\n"
     ]
    }
   ],
   "source": [
    "from sklearn.linear_model import LinearRegression\n",
    "from sklearn.metrics import mean_squared_error, r2_score\n",
    "\n",
    "# Initialize and train the model\n",
    "lin_reg = LinearRegression()\n",
    "lin_reg.fit(X_train, y_train)\n",
    "\n",
    "# Make predictions\n",
    "y_pred_lin_reg = lin_reg.predict(X_test)\n",
    "\n",
    "# Evaluate the model\n",
    "mse_lin_reg = mean_squared_error(y_test, y_pred_lin_reg)\n",
    "r2_lin_reg = r2_score(y_test, y_pred_lin_reg)\n",
    "\n",
    "print(f\"Linear Regression - Mean Squared Error: {mse_lin_reg}\")\n",
    "print(f\"Linear Regression - R^2 Score: {r2_lin_reg}\")\n"
   ]
  },
  {
   "cell_type": "markdown",
   "id": "9a6c98e2",
   "metadata": {},
   "source": [
    "Support Vector Machine (SVM)"
   ]
  },
  {
   "cell_type": "code",
   "execution_count": 57,
   "id": "323f0ca6",
   "metadata": {},
   "outputs": [
    {
     "name": "stdout",
     "output_type": "stream",
     "text": [
      "SVM - Mean Squared Error: 0.9747778459033577\n",
      "SVM - R^2 Score: -0.0040917271458538185\n"
     ]
    }
   ],
   "source": [
    "from sklearn.svm import SVR\n",
    "\n",
    "# Initialize and train the model\n",
    "svm = SVR()\n",
    "svm.fit(X_train, y_train)\n",
    "\n",
    "# Make predictions\n",
    "y_pred_svm = svm.predict(X_test)\n",
    "\n",
    "# Evaluate the model\n",
    "mse_svm = mean_squared_error(y_test, y_pred_svm)\n",
    "r2_svm = r2_score(y_test, y_pred_svm)\n",
    "\n",
    "print(f\"SVM - Mean Squared Error: {mse_svm}\")\n",
    "print(f\"SVM - R^2 Score: {r2_svm}\")\n"
   ]
  },
  {
   "cell_type": "markdown",
   "id": "cafa8da4",
   "metadata": {},
   "source": [
    " Gradient Boosting Regressor"
   ]
  },
  {
   "cell_type": "code",
   "execution_count": 58,
   "id": "6efe14e4",
   "metadata": {},
   "outputs": [
    {
     "name": "stdout",
     "output_type": "stream",
     "text": [
      "Gradient Boosting Regressor - Mean Squared Error: 0.04526001956796953\n",
      "Gradient Boosting Regressor - R^2 Score: 0.9533789043219975\n"
     ]
    }
   ],
   "source": [
    "from sklearn.ensemble import GradientBoostingRegressor\n",
    "\n",
    "# Initialize and train the model\n",
    "gbr = GradientBoostingRegressor()\n",
    "gbr.fit(X_train, y_train)\n",
    "\n",
    "# Make predictions\n",
    "y_pred_gbr = gbr.predict(X_test)\n",
    "\n",
    "# Evaluate the model\n",
    "mse_gbr = mean_squared_error(y_test, y_pred_gbr)\n",
    "r2_gbr = r2_score(y_test, y_pred_gbr)\n",
    "\n",
    "print(f\"Gradient Boosting Regressor - Mean Squared Error: {mse_gbr}\")\n",
    "print(f\"Gradient Boosting Regressor - R^2 Score: {r2_gbr}\")\n"
   ]
  },
  {
   "cell_type": "markdown",
   "id": "84af368b",
   "metadata": {},
   "source": [
    "K-Nearest Neighbors (KNN)"
   ]
  },
  {
   "cell_type": "code",
   "execution_count": 59,
   "id": "682cc596",
   "metadata": {},
   "outputs": [
    {
     "name": "stdout",
     "output_type": "stream",
     "text": [
      "K-Nearest Neighbors - Mean Squared Error: 0.23061142814318028\n",
      "K-Nearest Neighbors - R^2 Score: 0.7624535393813054\n"
     ]
    }
   ],
   "source": [
    "from sklearn.neighbors import KNeighborsRegressor\n",
    "\n",
    "# Initialize and train the model\n",
    "knn = KNeighborsRegressor()\n",
    "knn.fit(X_train, y_train)\n",
    "\n",
    "# Make predictions\n",
    "y_pred_knn = knn.predict(X_test)\n",
    "\n",
    "# Evaluate the model\n",
    "mse_knn = mean_squared_error(y_test, y_pred_knn)\n",
    "r2_knn = r2_score(y_test, y_pred_knn)\n",
    "\n",
    "print(f\"K-Nearest Neighbors - Mean Squared Error: {mse_knn}\")\n",
    "print(f\"K-Nearest Neighbors - R^2 Score: {r2_knn}\")\n"
   ]
  },
  {
   "cell_type": "markdown",
   "id": "668e4c38",
   "metadata": {},
   "source": [
    "# Compare Performance"
   ]
  },
  {
   "cell_type": "code",
   "execution_count": 62,
   "id": "25eb006a",
   "metadata": {},
   "outputs": [
    {
     "name": "stdout",
     "output_type": "stream",
     "text": [
      "RandomForest - MSE: 0.05125713526607897, R² Score: 0.9472014411343439\n",
      "GradientBoosting - MSE: 0.04477212118320819, R² Score: 0.9538814749681047\n",
      "AdaBoost - MSE: 0.10008772666988465, R² Score: 0.8969023980587776\n",
      "KNeighbors - MSE: 0.23061142814318028, R² Score: 0.7624535393813054\n",
      "SVR - MSE: 0.9747778459033577, R² Score: -0.0040917271458538185\n",
      "\n",
      "Best Model: GradientBoosting - MSE: 0.04477212118320819, R² Score: 0.9538814749681047\n"
     ]
    }
   ],
   "source": [
    "# Define the features (X) and the target (y)\n",
    "X = df_encoded.drop('salary_in_usd', axis=1)  \n",
    "y = df_encoded['salary_in_usd']\n",
    "\n",
    "# Split the data\n",
    "X_train, X_test, y_train, y_test = train_test_split(X, y, test_size=0.2, random_state=42)\n",
    "\n",
    "# Define a dictionary of models to compare\n",
    "models = {\n",
    "    'RandomForest': RandomForestRegressor(n_estimators=100, random_state=42),\n",
    "    'GradientBoosting': GradientBoostingRegressor(n_estimators=100, random_state=42),\n",
    "    'AdaBoost': AdaBoostRegressor(n_estimators=100, random_state=42),\n",
    "    'KNeighbors': KNeighborsRegressor(n_neighbors=5),\n",
    "    'SVR': SVR(kernel='rbf')\n",
    "}\n",
    "\n",
    "# Create a dictionary to store results\n",
    "results = {}\n",
    "# Initialize variables to track the best model\n",
    "best_model_name = None\n",
    "best_model_mse = float('inf')  # Start with infinity as the worst MSE\n",
    "best_model_r2 = float('-inf')  # Start with negative infinity as the worst R² score\n",
    "\n",
    "# Loop through the models\n",
    "for model_name, model in models.items():\n",
    "    # Train the model\n",
    "    model.fit(X_train, y_train)\n",
    "    \n",
    "    # Make predictions\n",
    "    y_pred = model.predict(X_test)\n",
    "    \n",
    "    # Evaluate the model\n",
    "    mse = mean_squared_error(y_test, y_pred)\n",
    "    r2 = r2_score(y_test, y_pred)\n",
    "    \n",
    "    # Store the results\n",
    "    results[model_name] = {'MSE': mse, 'R² Score': r2}\n",
    "    \n",
    "    # Check if this is the best model so far (based on MSE or R² Score)\n",
    "    if mse < best_model_mse:  # You can also use r2 for comparison depending on the use case\n",
    "        best_model_mse = mse\n",
    "        best_model_r2 = r2\n",
    "        best_model_name = model_name\n",
    "\n",
    "# Display the results for each model\n",
    "for model_name, metrics in results.items():\n",
    "    print(f\"{model_name} - MSE: {metrics['MSE']}, R² Score: {metrics['R² Score']}\")\n",
    "\n",
    "# Output the best model\n",
    "print(f\"\\nBest Model: {best_model_name} - MSE: {best_model_mse}, R² Score: {best_model_r2}\")"
   ]
  },
  {
   "cell_type": "markdown",
   "id": "baa2e597",
   "metadata": {},
   "source": [
    "# Visualization"
   ]
  },
  {
   "cell_type": "code",
   "execution_count": 63,
   "id": "929d8604",
   "metadata": {},
   "outputs": [
    {
     "data": {
      "image/png": "[encoded data removed]",
      "text/plain": [
       "<Figure size 1400x600 with 2 Axes>"
      ]
     },
     "metadata": {},
     "output_type": "display_data"
    },
    {
     "name": "stdout",
     "output_type": "stream",
     "text": [
      "\n",
      "Best Model: GradientBoosting - MSE: 0.04477212118320819, R² Score: 0.9538814749681047\n"
     ]
    }
   ],
   "source": [
    "# Set the style for the plots\n",
    "sns.set(style='whitegrid')\n",
    "\n",
    "# Extract the MSE and R² Score values for each model\n",
    "model_names = list(results.keys())\n",
    "mse_values = [results[model]['MSE'] for model in model_names]\n",
    "r2_values = [results[model]['R² Score'] for model in model_names]\n",
    "\n",
    "# Create a figure and axes for the plots\n",
    "fig, axs = plt.subplots(nrows=1, ncols=2, figsize=(14, 6))\n",
    "\n",
    "# Plot the MSE values\n",
    "axs[0].barh(model_names, mse_values, color='skyblue')\n",
    "axs[0].set_title('Model Comparison: Mean Squared Error (MSE)')\n",
    "axs[0].set_xlabel('MSE')\n",
    "axs[0].invert_yaxis()  # To have the best model on top\n",
    "\n",
    "# Plot the R² Score values\n",
    "axs[1].barh(model_names, r2_values, color='salmon')\n",
    "axs[1].set_title('Model Comparison: R² Score')\n",
    "axs[1].set_xlabel('R² Score')\n",
    "axs[1].invert_yaxis()  # To have the best model on top\n",
    "\n",
    "# Adjust layout\n",
    "plt.tight_layout()\n",
    "\n",
    "# Show the plots\n",
    "plt.show()\n",
    "\n",
    "# Output the best model as before\n",
    "print(f\"\\nBest Model: {best_model_name} - MSE: {best_model_mse}, R² Score: {best_model_r2}\")\n"
   ]
  },
  {
   "cell_type": "code",
   "execution_count": null,
   "id": "439e4bfa",
   "metadata": {},
   "outputs": [],
   "source": []
  },
  {
   "cell_type": "markdown",
   "id": "4924ca9f",
   "metadata": {},
   "source": [
    "Enhanced the performance "
   ]
  },
  {
   "cell_type": "code",
   "execution_count": 64,
   "id": "7a11e553",
   "metadata": {},
   "outputs": [
    {
     "name": "stdout",
     "output_type": "stream",
     "text": [
      "Training and tuning RandomForest...\n",
      "Training and tuning GradientBoosting...\n",
      "Training and tuning AdaBoost...\n",
      "Training and tuning KNeighbors...\n",
      "Training and tuning SVR...\n",
      "RandomForest - Best Params: {'max_depth': None, 'n_estimators': 100}, MSE: 0.05125713526607897, R² Score: 0.9472014411343439\n",
      "GradientBoosting - Best Params: {'learning_rate': 0.1, 'max_depth': 3, 'n_estimators': 200}, MSE: 0.04015192668824029, R² Score: 0.9586406096670502\n",
      "AdaBoost - Best Params: {'learning_rate': 0.1, 'n_estimators': 100}, MSE: 0.09398967802334675, R² Score: 0.9031838294879534\n",
      "KNeighbors - Best Params: {'n_neighbors': 3, 'weights': 'uniform'}, MSE: 0.24107049755438215, R² Score: 0.7516799409521171\n",
      "SVR - Best Params: {'C': 10, 'kernel': 'rbf'}, MSE: 0.9706852815290357, R² Score: 0.00012391034358916198\n",
      "\n",
      "Best Model: GradientBoosting - MSE: 0.04015192668824029, R² Score: 0.9586406096670502\n"
     ]
    }
   ],
   "source": [
    "from sklearn.model_selection import cross_val_score, GridSearchCV\n",
    "from sklearn.metrics import make_scorer\n",
    "\n",
    "# Define the models and hyperparameters to tune\n",
    "param_grid = {\n",
    "    'RandomForest': {\n",
    "        'n_estimators': [100, 200],\n",
    "        'max_depth': [None, 10, 20],\n",
    "    },\n",
    "    'GradientBoosting': {\n",
    "        'n_estimators': [100, 200],\n",
    "        'learning_rate': [0.1, 0.05],\n",
    "        'max_depth': [3, 5],\n",
    "    },\n",
    "    'AdaBoost': {\n",
    "        'n_estimators': [50, 100],\n",
    "        'learning_rate': [1.0, 0.1],\n",
    "    },\n",
    "    'KNeighbors': {\n",
    "        'n_neighbors': [3, 5, 7],\n",
    "        'weights': ['uniform', 'distance'],\n",
    "    },\n",
    "    'SVR': {\n",
    "        'C': [1, 10],\n",
    "        'kernel': ['rbf', 'linear']\n",
    "    }\n",
    "}\n",
    "\n",
    "# Initialize variables for tracking the best model\n",
    "best_model_name = None\n",
    "best_model_mse = float('inf')\n",
    "best_model_r2 = float('-inf')\n",
    "best_model = None\n",
    "\n",
    "# Create a dictionary to store the results\n",
    "results = {}\n",
    "\n",
    "# Loop through the models and tune hyperparameters using GridSearchCV\n",
    "for model_name, model in models.items():\n",
    "    print(f\"Training and tuning {model_name}...\")\n",
    "    \n",
    "    # Set up GridSearchCV for the current model\n",
    "    grid = GridSearchCV(model, param_grid[model_name], cv=5, scoring='neg_mean_squared_error', n_jobs=-1)\n",
    "    \n",
    "    # Fit the model with cross-validation\n",
    "    grid.fit(X_train, y_train)\n",
    "    \n",
    "    # Get the best estimator\n",
    "    best_estimator = grid.best_estimator_\n",
    "    \n",
    "    # Evaluate the model on the test set\n",
    "    y_pred = best_estimator.predict(X_test)\n",
    "    mse = mean_squared_error(y_test, y_pred)\n",
    "    r2 = r2_score(y_test, y_pred)\n",
    "    \n",
    "    # Store results\n",
    "    results[model_name] = {\n",
    "        'Best Params': grid.best_params_,\n",
    "        'MSE': mse,\n",
    "        'R² Score': r2\n",
    "    }\n",
    "    \n",
    "    # Track the best model\n",
    "    if mse < best_model_mse:\n",
    "        best_model_mse = mse\n",
    "        best_model_r2 = r2\n",
    "        best_model_name = model_name\n",
    "        best_model = best_estimator\n",
    "\n",
    "# Display the results\n",
    "for model_name, metrics in results.items():\n",
    "    print(f\"{model_name} - Best Params: {metrics['Best Params']}, MSE: {metrics['MSE']}, R² Score: {metrics['R² Score']}\")\n",
    "\n",
    "# Output the best model\n",
    "print(f\"\\nBest Model: {best_model_name} - MSE: {best_model_mse}, R² Score: {best_model_r2}\")\n"
   ]
  },
  {
   "cell_type": "code",
   "execution_count": 65,
   "id": "ad2e5c70",
   "metadata": {},
   "outputs": [
    {
     "data": {
      "image/png": "[encoded data removed]",
      "text/plain": [
       "<Figure size 1400x600 with 2 Axes>"
      ]
     },
     "metadata": {},
     "output_type": "display_data"
    }
   ],
   "source": [
    "# Extract the MSE and R² Score values for each model\n",
    "model_names = list(results.keys())\n",
    "mse_values = [results[model]['MSE'] for model in model_names]\n",
    "r2_values = [results[model]['R² Score'] for model in model_names]\n",
    "\n",
    "# Create a figure and axes for the plots\n",
    "fig, axs = plt.subplots(nrows=1, ncols=2, figsize=(14, 6))\n",
    "\n",
    "# Plot the MSE values\n",
    "axs[0].barh(model_names, mse_values, color='skyblue')\n",
    "axs[0].set_title('Model Comparison: Mean Squared Error (MSE)')\n",
    "axs[0].set_xlabel('MSE')\n",
    "axs[0].invert_yaxis()  # To have the best model on top\n",
    "\n",
    "# Plot the R² Score values\n",
    "axs[1].barh(model_names, r2_values, color='salmon')\n",
    "axs[1].set_title('Model Comparison: R² Score')\n",
    "axs[1].set_xlabel('R² Score')\n",
    "axs[1].invert_yaxis()  # To have the best model on top\n",
    "\n",
    "# Adjust layout\n",
    "plt.tight_layout()\n",
    "\n",
    "# Show the plots\n",
    "plt.show()\n"
   ]
  },
  {
   "cell_type": "markdown",
   "id": "8dcb677b",
   "metadata": {},
   "source": [
    "Conclusion:\n",
    "\n",
    "1. Model Comparison: You compared five regression models (RandomForest, GradientBoosting, AdaBoost, KNeighbors, and SVR) to predict salary.\n",
    "\n",
    "2. Best Model: The GradientBoosting Regressor performed the best with an MSE of 0.0402 and an R² score of 0.9586.\n",
    "\n",
    "3. Hyperparameter Tuning: Using GridSearchCV, you tuned each model's hyperparameters, and GradientBoosting improved further with n_estimators=200, learning_rate=0.1, and max_depth=3.\n",
    "\n",
    "4. Outcome: GradientBoosting was the most accurate model, outperforming others by a significant margin in both error reduction and predictive power."
   ]
  },
  {
   "cell_type": "markdown",
   "id": "ebde3066",
   "metadata": {},
   "source": [
    "## Key Insights\n",
    "\n",
    "1. Data Distribution:\n",
    "\n",
    "    1. Salaries in USD: Salaries have a wide range, with the highest values reaching over $40 million, indicating high-paying roles or potential data outliers. The mean salary is approximately $137,570.\n",
    "\n",
    "    2. Experience Level: There are variations in salary based on experience level, with more experienced roles generally commanding higher salaries.\n",
    "\n",
    "3. Exploratory Data Analysis (EDA):\n",
    "\n",
    "    1. Distribution of Salaries: The histogram and KDE plot reveal that salaries are right-skewed, with many entries clustered at lower salary ranges.\n",
    "\n",
    "    2. Experience Level vs. Salary: A boxplot shows that higher experience levels tend to have higher salaries, but there is significant salary overlap between experience levels.\n",
    "    3. Employment Type Distribution: Most employees are full-time, with contract positions being less common.\n",
    "3. Correlation Analysis:\n",
    "\n",
    "     1. Correlation Between Numerical Features: Salaries in USD are positively correlated with the actual salary amount and remote work ratio. There is a strong positive correlation between salary and salary_in_usd.\n",
    "4. Data Preprocessing:\n",
    "\n",
    "    1. Handling Duplicates: Duplicate entries were removed to ensure the data is clean.\n",
    "    2. Encoding Categorical Variables: Categorical variables were converted into numerical values using One-Hot Encoding.\n",
    "    3. Feature Scaling: Numerical features were scaled to standardize the range of values.\n",
    "5.  Model Performance:\n",
    "\n",
    "    1. Random Forest and Gradient Boosting: Among the models tested, Gradient Boosting Regressor performed the best with the lowest Mean Squared Error (MSE) and highest R² score, indicating it provided the most accurate predictions.\n",
    "    2. Model Comparison: Other models like Random Forest, K-Nearest Neighbors, and Support Vector Machine performed relatively well but did not match the performance of Gradient Boosting.\n",
    "## Summary\n",
    "From the data, we understood the following:\n",
    "\n",
    "Salary Trends: Salaries vary significantly based on experience, job title, and company size. The data shows a general trend of higher salaries with increased experience and certain job titles.\n",
    "Effectiveness of Models: Gradient Boosting Regressor is the most effective model for predicting salaries, followed by Random Forest. Models like Linear Regression and SVR performed poorly.\n",
    "Data Quality: The dataset is relatively clean with no missing values and duplicates removed. Encoding and scaling were necessary to prepare the data for modeling.\n",
    "Overall, the analysis provided valuable insights into salary distribution and the effectiveness of various machine learning models for predicting salaries based on different features."
   ]
  },
  {
   "cell_type": "code",
   "execution_count": null,
   "id": "d8adb643",
   "metadata": {},
   "outputs": [],
   "source": []
  }
 ],
 "metadata": {
  "kernelspec": {
   "display_name": "Python 3 (ipykernel)",
   "language": "python",
   "name": "python3"
  },
  "language_info": {
   "codemirror_mode": {
    "name": "ipython",
    "version": 3
   },
   "file_extension": ".py",
   "mimetype": "text/x-python",
   "name": "python",
   "nbconvert_exporter": "python",
   "pygments_lexer": "ipython3",
   "version": "3.11.5"
  }
 },
 "nbformat": 4,
 "nbformat_minor": 5
}
